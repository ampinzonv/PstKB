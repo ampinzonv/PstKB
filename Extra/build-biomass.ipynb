{
 "cells": [
  {
   "cell_type": "markdown",
   "metadata": {},
   "source": [
    "# Construcción de la formula de biomasstmp.tsv"
   ]
  },
  {
   "cell_type": "code",
   "execution_count": 5,
   "metadata": {},
   "outputs": [],
   "source": [
    "import pandas as pd\n",
    "import numpy as np\n",
    "# Cargar las hojas del excel como data frame separados\n",
    "file_xls= '../modelData.xls'\n",
    "Comparative_OFs_sheet='Comparative OFs'\n",
    "Comparative_OFs_columns = ['ID','Metabolite','Botero 2018','Guevara 2023','PstKB_Ori','PstKB_cobra']\n",
    "Comparative_OFs = pd.read_excel(file_xls, sheet_name=Comparative_OFs_sheet, names=Comparative_OFs_columns)"
   ]
  },
  {
   "cell_type": "code",
   "execution_count": 14,
   "metadata": {},
   "outputs": [
    {
     "name": "stdout",
     "output_type": "stream",
     "text": [
      "52.48687847 cpd00001[c0] + 50.8640296 cpd00002[c0] + 0.0003 cpd00003[c0] + 0.00015 cpd00004[c0] + 0.0001 cpd00005[c0] + 0.00013 cpd00006[c0] + 50.82162542 cpd00008[c0] + 30.0 cpd00009[c0] + 0.000136 cpd00010[c0] + 0.251163514 cpd00012[c0] + 0.766 cpd00014[c0] + 0.0001 cpd00015[c0] + 0.0001 cpd00016[c0] + 0.000543 cpd00017[c0] + 0.113680655 cpd00023[c0] + 0.0757 cpd00032[c0] + 0.119759406 cpd00033[c0] + 0.125715444 cpd00035[c0] + 0.059180604 cpd00038[c0] + 0.111221065 cpd00039[c0] + 0.092200102 cpd00041[c0] + 0.0001 cpd00050[c0] + 0.083303507 cpd00051[c0] + 0.050417865 cpd00052[c0] + 0.059905153 cpd00053[c0] + 0.136485824 cpd00054[c0] + 0.0001 cpd00056[c0] + 0.038393076 cpd00060[c0] + 0.095373121 cpd00062[c0] + 0.018506346 cpd00065[c0] + 0.06699751 cpd00066[c0] + 50.82162542 cpd00067[c0] + 0.048038431 cpd00069[c0] + 0.13 cpd00080[c0] + 0.02357061 cpd00084[c0] + 0.0001 cpd00087[c0] + 0.21 cpd00099[c0] + 0.0001 cpd00104[c0] + 0.149333364 cpd00107[c0] + 0.028880831 cpd00115[c0] + 0.034132408 cpd00119[c0] + 0.0001 cpd00125[c0] + 0.084620896 cpd00129[c0] + 0.037 cpd00130[c0] + 0.07044695 cpd00132[c0] + 0.013 cpd00137[c0] + 0.115457465 cpd00156[c0] + 0.039 cpd00159[c0] + 0.084449203 cpd00161[c0] + 0.282 cpd00163[c0] + 0.0001 cpd00201[c0] + 0.307 cpd00205[c0] + 0.000304255 cpd00214[c0] + 0.015417221 cpd00241[c0] + 0.089035636 cpd00322[c0] + 0.086 cpd00331[c0] + 0.0001 cpd00345[c0] + 0.0001 cpd00347[c0] + 0.015417221 cpd00356[c0] + 0.028880831 cpd00357[c0] + 0.003467474 cpd00536[c0] + 0.55 cpd00604[c0] + 0.001 cpd00834[c0] + 0.076 cpd01059[c0] + 0.011 cpd01080[c0] + 0.0001 cpd02197[c0] + 0.000975 cpd12844[d0] + 0.0377 cpd16443[c0] + 0.000155 cpd16503[c0] + 0.053 cpd19001[c0] + 0.0001 cpd25914[c0] + 0.2271 cpd30321[c0] + 0.048 Coniferyl alcohol + 0.040430234 palmitoleic acid + 50.82162542 Pi + 0.118671485 linolenic acid + 0.040003311 linoleic acid + 0.000455481 stearic acid + 0.056 synapyl alcohol + 0.04 coumaryl alcohol + 0.096 sucrose + 0.305 cellulose + 0.265 starch + 0.0 cpd11416[c0] \n"
     ]
    }
   ],
   "source": [
    "# Crear el string\n",
    "result_string = \"\"\n",
    "for index, row in Comparative_OFs.iterrows():\n",
    "    cpd_id = row['ID']\n",
    "    if pd.isna(cpd_id):\n",
    "        cpd_id = row['Metabolite']\n",
    "    valor = row['PstKB_cobra']\n",
    "    term = f\"{valor} {cpd_id} + \"\n",
    "    result_string += term\n",
    "\n",
    "# Eliminar el último '+' y mostrar el resultado\n",
    "result_string = result_string[:-2]\n",
    "print(result_string)"
   ]
  },
  {
   "cell_type": "code",
   "execution_count": 15,
   "metadata": {},
   "outputs": [],
   "source": [
    "# Actualizamos el archivo biomasstmp.tsv con la nueva formula de biomasa\n",
    "with open('../biomasstmp.tsv', 'w') as file:\n",
    "    file.write(result_string)"
   ]
  }
 ],
 "metadata": {
  "kernelspec": {
   "display_name": "Python 3",
   "language": "python",
   "name": "python3"
  },
  "language_info": {
   "codemirror_mode": {
    "name": "ipython",
    "version": 3
   },
   "file_extension": ".py",
   "mimetype": "text/x-python",
   "name": "python",
   "nbconvert_exporter": "python",
   "pygments_lexer": "ipython3",
   "version": "3.11.6"
  }
 },
 "nbformat": 4,
 "nbformat_minor": 2
}
